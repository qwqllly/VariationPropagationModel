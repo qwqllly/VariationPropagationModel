{
 "cells": [
  {
   "cell_type": "markdown",
   "metadata": {},
   "source": [
    "### 误差传播模型\n",
    "输入：\n",
    "- 零件定位点的坐标（实测）（D11~D16、D21~D26） 单位：mm\n",
    "- 测量点的坐标（期望）（D31~D34） 单位：mm\n",
    "\n",
    "输出：\n",
    "- 参考点（D31~D34）的偏移量 Δx Δy Δz (mm) Δα Δβ Δγ (')\n"
   ]
  },
  {
   "cell_type": "markdown",
   "metadata": {},
   "source": [
    "定位方式：一面四孔\n",
    "\n",
    "假设舱段数量：3\n",
    "\n",
    "舱段1长995mm\n",
    "\n",
    "舱段2长1327mm\n",
    "\n",
    "舱段3长678mm"
   ]
  },
  {
   "cell_type": "code",
   "execution_count": 99,
   "metadata": {},
   "outputs": [],
   "source": [
    "import numpy as np\n",
    "import math"
   ]
  },
  {
   "cell_type": "markdown",
   "metadata": {},
   "source": [
    "#### 输入的数据：舱段表面坐标"
   ]
  },
  {
   "cell_type": "code",
   "execution_count": 100,
   "metadata": {},
   "outputs": [],
   "source": [
    "# # 输入零件定位点的坐标，坐标用向量表示\n",
    "# D11 = np.array([240, 137.5, 0])\n",
    "# D12 = np.array([240, -137.5, 0])\n",
    "# D13 = np.array([240, -135, -2.5])\n",
    "# D14 = np.array([240, -90.7, -100])\n",
    "# D15 = np.array([240, -108.75, -80])\n",
    "# D16 = np.array([240, 125.4, 50])\n",
    "\n",
    "# D21 = np.array([540, 112.5, 0])\n",
    "# D22 = np.array([540, -112.5, 0])\n",
    "# D23 = np.array([540, -110, -2.5])\n",
    "# D24 = np.array([540, 70, 84.9])\n",
    "# D25 = np.array([540, 60, -92.2])\n",
    "# D26 = np.array([540, -32.8, 105])\n",
    "\n",
    "# # 输入测量点的坐标，坐标用向量表示\n",
    "# D31 = np.array([0, 137.5, 0])\n",
    "# D32 = np.array([0, -137.5, 0])\n",
    "# D33 = np.array([840, 97.5, 0])\n",
    "# D34 = np.array([840, -97.5, 0])"
   ]
  },
  {
   "cell_type": "code",
   "execution_count": 101,
   "metadata": {},
   "outputs": [],
   "source": [
    "# # Δf = (Δx1 Δy1 Δx2 Δy2 Δz3 Δz4 Δz5)^T 单位mm，假设服从正态分布N(0,0.05)\n",
    "# delta_f = np.random.uniform(0, 0.01, (7,1))\n",
    "\n",
    "# 舱段2上：定位器P1-P5在局部坐标系下的坐标，由定位器测出\n",
    "x1, y1, z1 = 000, 000, 000\n",
    "x2, y2, z2 = 400, 400, 200\n",
    "x3, y3, z3 = 800, 100, 100\n",
    "x4, y4, z4 = 800, 700, 700\n",
    "x5, y5, z5 =  50, 550, 700\n",
    "\n",
    "# 舱段1上：定位器P6-P10在局部坐标系下的坐标，由定位器测出\n",
    "x1_1, y1_1, z1_1 = 000, 000, 000\n",
    "x2_1, y2_1, z2_1 = 200, 350,  90\n",
    "x3_1, y3_1, z3_1 = 750, 90,  680\n",
    "x4_1, y4_1, z4_1 = 780, 680, 660\n",
    "x5_1, y5_1, z5_1 = -50, 600,  60\n",
    "\n",
    "# 舱段3上：定位器P11-P15在局部坐标系下的坐标，由定位器测出\n",
    "x1_3, y1_3, z1_3 = 000, 000, 000\n",
    "x2_3, y2_3, z2_3 = 300, 380,  85\n",
    "x3_3, y3_3, z3_3 = 760,  86, 650\n",
    "x4_3, y4_3, z4_3 = 780, 650, 680\n",
    "x5_3, y5_3, z5_3 = -30, 580,  80"
   ]
  },
  {
   "cell_type": "code",
   "execution_count": 102,
   "metadata": {},
   "outputs": [],
   "source": [
    "# # 第i站装夹或舱段的制造精度偏差\n",
    "# f1 = np.random.uniform(0, 0.05, (6,1))\n",
    "# f2 = np.random.uniform(0, 0.05, (6,1))\n",
    "# Omega1 = np.random.uniform(0, 0.05, (6,1))\n",
    "# Omega2 = np.random.uniform(0, 0.05, (6,1))"
   ]
  },
  {
   "cell_type": "code",
   "execution_count": 103,
   "metadata": {},
   "outputs": [],
   "source": [
    "# 创建全局坐标系\n",
    "x_global_vector = np.array([1, 0, 0])\n",
    "y_global_vector = np.array([0, 1, 0])\n",
    "z_global_vector = np.array([0, 0, 1])"
   ]
  },
  {
   "cell_type": "code",
   "execution_count": 104,
   "metadata": {},
   "outputs": [],
   "source": [
    "# 用于创建坐标系转换矩阵中的矩阵扩展\n",
    "def expand_matrix(original_matrix,n):\n",
    "    # 获取原矩阵的形状\n",
    "    original_shape = original_matrix.shape\n",
    "    rows, cols = original_shape\n",
    "\n",
    "    # 创建一个6x6的零矩阵\n",
    "    expanded_matrix = np.zeros((n, n))\n",
    "\n",
    "    # 将原矩阵放置在左上和右下角\n",
    "    expanded_matrix[:rows, :cols] = original_matrix\n",
    "    expanded_matrix[-rows:, -cols:] = original_matrix\n",
    "\n",
    "    return expanded_matrix"
   ]
  },
  {
   "cell_type": "markdown",
   "metadata": {},
   "source": [
    "#### 以下过程表示舱段2空装 \n",
    "X(1)=B(1)U(1)"
   ]
  },
  {
   "cell_type": "markdown",
   "metadata": {},
   "source": [
    "在舱段2上选择5个定位点，分别得到x y z坐标，设夹具误差服从正态分布N（0，0.001）"
   ]
  },
  {
   "cell_type": "code",
   "execution_count": 105,
   "metadata": {},
   "outputs": [],
   "source": [
    "# 在舱段2上创建局部坐标系\n",
    "\n",
    "# 创建全局坐标系下主平面的法向量nz (nx, ny, nz)\n",
    "nx,ny,nz = 2/3,1/3,2/3\n"
   ]
  },
  {
   "cell_type": "code",
   "execution_count": 106,
   "metadata": {},
   "outputs": [],
   "source": [
    "def generate_Fs_bar(nx, ny, nz, x1, y1, z1, x2, y2, z2, x3, y3, x4, y4, x5, y5):\n",
    "    global x_global_vector, y_global_vector, z_global_vector\n",
    "    \n",
    "    # 创建局部坐标系\n",
    "    z_local_vector = np.array([nx, ny, nz])\n",
    "    x_local_vector = np.cross(z_global_vector, z_local_vector)\n",
    "    y_local_vector = np.cross(z_local_vector, x_local_vector)\n",
    "\n",
    "    # 局部坐标系和全局坐标系的变换矩阵\n",
    "    phi_matrix = np.vstack((x_local_vector, y_local_vector, z_local_vector))\n",
    "\n",
    "    # 扩展为6*6矩阵，平动+旋转\n",
    "    phi_bar = expand_matrix(phi_matrix,6)\n",
    "\n",
    "    # 计算D35 D36 D37\n",
    "    denominator_1 = x5*y3 - x5*y4 + x4*y5 - x3*y5 + x3*y4 -x4*y3\n",
    "    D35 = (x4*y5 - x5*y4)/ denominator_1\n",
    "    D36 = (x5*y3 - x3*y5)/ denominator_1\n",
    "    D37 = (x3*y4 - x4*y3)/ denominator_1\n",
    "\n",
    "    # 计算D45 D46 D47\n",
    "    denominator_2 = x4*y5 -x5*y4\n",
    "    D45 = (x5-x4) * D35 / denominator_2\n",
    "    D46 = ((x5-x4) * D36 - x5) / denominator_2\n",
    "    D47 = ((x5-x4) * D37 + x4) / denominator_2\n",
    "\n",
    "    # 计算D55 D56 D57\n",
    "    denominator_3 = y4*x3 -y3*x4\n",
    "    D55 = ((y3-y4) * D35 + y4) / denominator_3\n",
    "    D56 = ((y3-y4) * D36 - y3) / denominator_3\n",
    "    D57 = (y3-y4) * D37 / denominator_3\n",
    "\n",
    "    # P1与P2的距离 L\n",
    "    L = math.sqrt((x2-x1)*(x2-x1) + (y2-y1)*(y2-y1) + (z2-z1)*(z2-z1))\n",
    "\n",
    "    # 计算λ：P1P2与x轴的夹角\n",
    "    # 向量OP和x轴单位向量\n",
    "    OP2 = np.array([x2, y2, z2])\n",
    "\n",
    "    # 计算点积和向量模\n",
    "    dot_product = np.dot(OP2, x_local_vector)\n",
    "    magnitude_OP2 = np.linalg.norm(OP2)\n",
    "\n",
    "    # 计算夹角的余弦值\n",
    "    cos_theta = dot_product / magnitude_OP2\n",
    "\n",
    "    # 计算夹角（弧度制）\n",
    "    lamda = np.arccos(cos_theta)\n",
    "    # 利用定位器的坐标构建Fs 和Fs_bar\n",
    "    Fs = np.zeros((6, 7))\n",
    "\n",
    "    # 设置(0, 0)和(1, 1)的值为1\n",
    "    Fs[0, 0] = 1\n",
    "    Fs[1, 1] = 1\n",
    "\n",
    "    # 将计算得到的值放入矩阵中指定位置(2, 4)到(4, 6)\n",
    "    Fs[2, 4] = D35\n",
    "    Fs[2, 5] = D36\n",
    "    Fs[2, 6] = D37\n",
    "    Fs[3, 4] = D45\n",
    "    Fs[3, 5] = D46\n",
    "    Fs[3, 6] = D47\n",
    "    Fs[4, 4] = D55\n",
    "    Fs[4, 5] = D56\n",
    "    Fs[4, 6] = D57\n",
    "\n",
    "    Fs[5, 0] = np.sin(lamda)/L\n",
    "    Fs[5, 1] = -1 * np.cos(lamda)/L\n",
    "    Fs[5, 2] = -1 * np.sin(lamda)/L\n",
    "    Fs[5, 3] = np.cos(lamda)/L\n",
    "\n",
    "    Fs_bar = np.dot(np.linalg.inv(phi_bar) , Fs)\n",
    "\n",
    "    return Fs_bar"
   ]
  },
  {
   "cell_type": "code",
   "execution_count": 107,
   "metadata": {},
   "outputs": [],
   "source": [
    "Fs_bar1 = generate_Fs_bar(nx, ny, nz, x1, y1, z1, x2, y2, z2, x3, y3, x4, y4, x5, y5)\n",
    "\n",
    "W0_bar = np.zeros((6,13))\n",
    "W0_bar[:,:7] = Fs_bar1"
   ]
  },
  {
   "cell_type": "code",
   "execution_count": 108,
   "metadata": {},
   "outputs": [],
   "source": [
    "# 矩阵U1：站1中与局部误差源的偏差\n",
    "U1_matrix = np.random.normal(0, 0.001, (13,1))\n"
   ]
  },
  {
   "cell_type": "code",
   "execution_count": 109,
   "metadata": {},
   "outputs": [],
   "source": [
    "B1_matrix = np.zeros((18, 13))\n",
    "\n",
    "# 将原始6x7的矩阵放置在新矩阵的上部\n",
    "B1_matrix[:6, :] = W0_bar"
   ]
  },
  {
   "cell_type": "code",
   "execution_count": 110,
   "metadata": {},
   "outputs": [
    {
     "data": {
      "text/plain": [
       "array([[ 1.22922315e-03],\n",
       "       [-4.67657885e-05],\n",
       "       [-8.49223903e-05],\n",
       "       [-7.76720352e-07],\n",
       "       [-1.84362392e-06],\n",
       "       [-1.13430590e-06],\n",
       "       [ 0.00000000e+00],\n",
       "       [ 0.00000000e+00],\n",
       "       [ 0.00000000e+00],\n",
       "       [ 0.00000000e+00],\n",
       "       [ 0.00000000e+00],\n",
       "       [ 0.00000000e+00],\n",
       "       [ 0.00000000e+00],\n",
       "       [ 0.00000000e+00],\n",
       "       [ 0.00000000e+00],\n",
       "       [ 0.00000000e+00],\n",
       "       [ 0.00000000e+00],\n",
       "       [ 0.00000000e+00]])"
      ]
     },
     "execution_count": 110,
     "metadata": {},
     "output_type": "execute_result"
    }
   ],
   "source": [
    "X1 = np.dot(B1_matrix,U1_matrix)\n",
    "X1 # 舱段2空装后的6自由度误差"
   ]
  },
  {
   "cell_type": "markdown",
   "metadata": {},
   "source": [
    "#### 以下过程表示舱段2与舱段1装配\n",
    "X(2)=A(1)X(1)+B(2)U(2)"
   ]
  },
  {
   "cell_type": "code",
   "execution_count": 111,
   "metadata": {},
   "outputs": [],
   "source": [
    "# 在舱段1上创建局部坐标系\n",
    "\n",
    "# 创建全局坐标系下主平面的法向量 (nx, ny, nz)\n",
    "nx_1, ny_1, nz_1 = 2 / math.sqrt(6), 1 / math.sqrt(6), 1 / math.sqrt(6)"
   ]
  },
  {
   "cell_type": "markdown",
   "metadata": {},
   "source": [
    "在舱段1上选择5个定位点，分别得到x y z坐标，设夹具误差服从正态分布N（0，0.001）"
   ]
  },
  {
   "cell_type": "code",
   "execution_count": 112,
   "metadata": {},
   "outputs": [],
   "source": [
    "# 创建矩阵F2\n",
    "F2 = np.zeros((7, 15), dtype=int)\n",
    "\n",
    "# 在指定位置放置1\n",
    "positions = [(0, 0), (1, 1), (2, 3), (3, 4), (4, 8), (5, 11), (6, 14)]\n",
    "\n",
    "for pos in positions:\n",
    "    row, col = pos\n",
    "    F2[row, col] = 1"
   ]
  },
  {
   "cell_type": "code",
   "execution_count": 113,
   "metadata": {},
   "outputs": [],
   "source": [
    "def generate_Qi(x_1, x_2, x_3, x_4, x_5, y_1, y_2, y_3, y_4, y_5, z_1, z_2, z_3, z_4, z_5):\n",
    "    # 创建列表以存储坐标值\n",
    "    x_values = [x_1, x_2, x_3, x_4, x_5]\n",
    "    y_values = [y_1, y_2, y_3, y_4, y_5]\n",
    "    z_values = [z_1, z_2, z_3, z_4, z_5]\n",
    "\n",
    "    # 创建一个空列表以存储矩阵\n",
    "    matrices = []\n",
    "\n",
    "    # 创建循环来生成矩阵\n",
    "    for i, (xi, yi, zi) in enumerate(zip(x_values, y_values, z_values), 1):\n",
    "        # 创建3x3的矩阵，并初始化为0\n",
    "        matrix = np.zeros((3, 3))\n",
    "\n",
    "        # 设定特定位置的值\n",
    "        matrix[0, 1] = zi\n",
    "        matrix[0, 2] = -1 * yi\n",
    "        matrix[1, 0] = -1 * zi\n",
    "        matrix[1, 2] = xi\n",
    "        matrix[2, 0] = yi\n",
    "        matrix[2, 1] = -1 * xi\n",
    "\n",
    "        matrices.append(matrix)\n",
    "        \n",
    "    # 创建一个空的15x30矩阵\n",
    "    Qi = np.zeros((15, 30))\n",
    "\n",
    "    # 在对角线位置放置扩展后的矩阵\n",
    "    for i, matrix in enumerate(matrices):\n",
    "        row_start = i * 3\n",
    "        row_end = row_start + 3\n",
    "        col_start = i * 6\n",
    "        col_end = col_start + 6\n",
    "\n",
    "        # 生成单位矩阵，并使用堆叠函数组合成3x6的矩阵\n",
    "        unit_matrix = np.eye(3)\n",
    "        extended_matrix = np.hstack((unit_matrix, matrix))\n",
    "\n",
    "        # 将扩展后的矩阵放置在对角线位置\n",
    "        Qi[row_start:row_end, col_start:col_end] = extended_matrix\n",
    "    return Qi"
   ]
  },
  {
   "cell_type": "markdown",
   "metadata": {},
   "source": [
    "##### Q坐标输入，新舱段定位点P6-P10在根子装配体局部坐标系(原点P1)中的坐标，应该是新测的!!!!具体就是舱段1上五个定位点在舱段2的局部坐标系中的坐标。"
   ]
  },
  {
   "cell_type": "code",
   "execution_count": 114,
   "metadata": {},
   "outputs": [],
   "source": [
    "# 输入新数据，此处是第一个舱段五个定位点在第二个舱段局部坐标系下的坐标\n",
    "x1_root_1, y1_root_1, z1_root_1 = -1003, 2.5, -0.8\n",
    "x2_root_1, y2_root_1, z2_root_1 = -796, 349, 92\n",
    "x3_root_1, y3_root_1, z3_root_1 = -52, 88, 677\n",
    "x4_root_1, y4_root_1, z4_root_1 = -21, 676, 663\n",
    "x5_root_1, y5_root_1, z5_root_1 =  -1048, 602, 59"
   ]
  },
  {
   "cell_type": "code",
   "execution_count": 115,
   "metadata": {},
   "outputs": [],
   "source": [
    "Q2 = generate_Qi(x1_root_1,x2_root_1,x3_root_1,x4_root_1,x5_root_1, \n",
    "                y1_root_1,y2_root_1,y3_root_1,y4_root_1,y5_root_1,\n",
    "                z1_root_1,z2_root_1,z3_root_1,z4_root_1,z5_root_1)"
   ]
  },
  {
   "cell_type": "code",
   "execution_count": 116,
   "metadata": {},
   "outputs": [],
   "source": [
    "# 创建矩阵S2\n",
    "unit_matrix = np.eye(6)\n",
    "\n",
    "# 堆叠5个单位矩阵以创建30x6的矩阵\n",
    "S2 = np.vstack([unit_matrix for _ in range(5)])\n",
    "\n",
    "# 计算G2\n",
    "G2 = F2@Q2@S2"
   ]
  },
  {
   "cell_type": "code",
   "execution_count": 117,
   "metadata": {},
   "outputs": [],
   "source": [
    "#计算舱段1的Fs_bar2\n",
    "Fs_bar2 = generate_Fs_bar(nx_1, ny_1, nz_1, x1_1, y1_1, z1_1, x2_1, y2_1, z2_1, x3_1, y3_1, x4_1, y4_1, x5_1, y5_1)\n",
    "\n",
    "# 构造F1(2)\n",
    "# 将左边的单位矩阵和右边的零矩阵拼接在一起\n",
    "F1_2 = np.zeros((6,18))\n",
    "F1_2[:,:6] = np.eye(6)"
   ]
  },
  {
   "cell_type": "markdown",
   "metadata": {},
   "source": [
    "##### 输入2个新的坐标"
   ]
  },
  {
   "cell_type": "code",
   "execution_count": 118,
   "metadata": {},
   "outputs": [],
   "source": [
    "# Q中运用的坐标值\n",
    "x_Omega_1, y_Omega_1, z_Omega_1 = 1002, 1, 2"
   ]
  },
  {
   "cell_type": "code",
   "execution_count": 119,
   "metadata": {},
   "outputs": [],
   "source": [
    "def generate_MPs1_i_Pr(x_Omega, y_Omega, z_Omega):\n",
    "    # 构建 M(Ps1(i),Pr)\n",
    "    MPs1_i_Pr = np.empty((6, 6))\n",
    "    # 创建一个3x3的单位矩阵\n",
    "    top_left = np.eye(3)\n",
    "    bottom_right = np.eye(3)\n",
    "    # 创建一个3x3的零矩阵\n",
    "    bottom_left = np.zeros((3, 3))\n",
    "    # 指定的坐标值\n",
    "    specified_values = np.array([\n",
    "        [0, z_Omega, -1*y_Omega],\n",
    "        [-1*z_Omega, 0, x_Omega],\n",
    "        [y_Omega, -1*x_Omega, 0]\n",
    "    ])\n",
    "    # 将左上、右下和右上角的值填入矩阵\n",
    "    MPs1_i_Pr[:3, :3] = top_left\n",
    "    MPs1_i_Pr[:3, 3:] = specified_values\n",
    "    MPs1_i_Pr[3:, :3] = bottom_left\n",
    "    MPs1_i_Pr[3:, 3:] = bottom_right\n",
    "    \n",
    "    return MPs1_i_Pr\n",
    "\n",
    "MPs1_2_Pr = generate_MPs1_i_Pr(x_Omega_1, y_Omega_1, z_Omega_1)"
   ]
  },
  {
   "cell_type": "code",
   "execution_count": 120,
   "metadata": {},
   "outputs": [],
   "source": [
    "# 构建Ms(2)(2)\n",
    "Ms_2 = (np.eye(6) - MPs1_2_Pr) @ Fs_bar2 @ G2 @ F1_2"
   ]
  },
  {
   "cell_type": "code",
   "execution_count": 121,
   "metadata": {},
   "outputs": [],
   "source": [
    "# 创建对接的J\n",
    "def generate_J(x_Omega, y_Omega, z_Omega):\n",
    "    J1 = np.zeros((6,25))\n",
    "    J1[1,1], J1[2,2], J1[4,4], J1[5,5],J1[1,7], J1[2,8], J1[4,10], J1[5,11], J1[1,13], J1[2,14], J1[4,16], J1[5,17] = 1, 1, 1, 1, 1, 1, 1, 1, -1, -1, -1, -1\n",
    "    J1[1,3], J1[1,5], J1[2,3], J1[2,4] = -1*z_Omega, x_Omega, y_Omega, -1*x_Omega\n",
    "    J1[:,18:25] = Fs_bar2 \n",
    "    \n",
    "    return J1"
   ]
  },
  {
   "cell_type": "code",
   "execution_count": 122,
   "metadata": {},
   "outputs": [],
   "source": [
    "F4 = np.zeros((25, 6))\n",
    "F4[:6,:] = np.eye(6)\n",
    "\n",
    "# 创建J1\n",
    "J1 = generate_J(x_Omega_1, y_Omega_1, z_Omega_1)\n",
    "\n",
    "# 构建H(i-1)\n",
    "H1 = J1 @ F4\n",
    "\n",
    "# 构建F3(i)\n",
    "F3_2 = np.eye(6)\n",
    "\n",
    "# 构建R(i-1)\n",
    "R1 = H1 @ F3_2 @ Ms_2"
   ]
  },
  {
   "cell_type": "code",
   "execution_count": 123,
   "metadata": {},
   "outputs": [],
   "source": [
    "# 矩阵A：由于重定位所引入误差的转换矩阵，表征装配过程中的舱段在不同工序之间转换的重定位误差，决定于装配过程中的工序与工序之间的定位基准的变换。\n",
    "# 在第一工位，由于前一工位引起的零件偏差误差为零。因此，当i=1时，A(0)=0 （6nx6n）\n",
    "# 当i>1时，A(i-1)表示参考点RP的误差累积和定位方案的变化。\n",
    "\n",
    "MMs_2 = np.zeros((18, 18))\n",
    "# 将原始6x18的矩阵放置在新矩阵的左上角\n",
    "MMs_2[:6, :18] = Ms_2\n",
    "\n",
    "RR1 = np.zeros((18,18))\n",
    "RR1[6:12,:18] = R1\n",
    "\n",
    "A1_matrix = MMs_2 + RR1"
   ]
  },
  {
   "cell_type": "code",
   "execution_count": 124,
   "metadata": {},
   "outputs": [],
   "source": [
    "W0_bar = np.zeros((6, 32))\n",
    "# 将原始6x7的矩阵放置在新矩阵的上部\n",
    "W0_bar[:6, :7] = Fs_bar2\n",
    "\n",
    "W0_wavy = F3_2 @ MPs1_2_Pr @ W0_bar\n",
    "\n",
    "U0 = np.zeros((19,32))\n",
    "U0[:,7:26] = np.eye(19)\n",
    "W1_bar = np.vstack((W0_wavy,U0))\n",
    "# W1_bar = np.vstack((W0_bar,U0))\n",
    "\n",
    "# 创建lamda2\n",
    "lamda2 = np.zeros((12,32))\n",
    "lamda2[:6,:] = J1 @ W1_bar\n"
   ]
  },
  {
   "cell_type": "code",
   "execution_count": 125,
   "metadata": {},
   "outputs": [],
   "source": [
    "B2_matrix = np.vstack((MPs1_2_Pr @ W0_bar , lamda2))"
   ]
  },
  {
   "cell_type": "code",
   "execution_count": 126,
   "metadata": {},
   "outputs": [
    {
     "data": {
      "text/plain": [
       "array([[ 2.92773347e-03],\n",
       "       [-2.12029448e-03],\n",
       "       [ 1.22033288e-03],\n",
       "       [ 1.13726990e-06],\n",
       "       [-3.91067876e-06],\n",
       "       [-1.93506298e-07],\n",
       "       [ 7.01623567e-06],\n",
       "       [-3.74314166e-03],\n",
       "       [ 8.66375924e-03],\n",
       "       [-3.91920366e-06],\n",
       "       [ 8.18891594e-04],\n",
       "       [-2.17284606e-04],\n",
       "       [ 0.00000000e+00],\n",
       "       [ 0.00000000e+00],\n",
       "       [ 0.00000000e+00],\n",
       "       [ 0.00000000e+00],\n",
       "       [ 0.00000000e+00],\n",
       "       [ 0.00000000e+00]])"
      ]
     },
     "execution_count": 126,
     "metadata": {},
     "output_type": "execute_result"
    }
   ],
   "source": [
    "# 矩阵U2：站2中与局部误差源的偏差\n",
    "U2_matrix = np.random.normal(0, 0.001, (32,1))\n",
    "\n",
    "\n",
    "# 计算X2\n",
    "X2 = A1_matrix @ X1 + B2_matrix @ U2_matrix\n",
    "X2 # 舱段2与舱段1装配后的误差"
   ]
  },
  {
   "cell_type": "markdown",
   "metadata": {},
   "source": [
    "#### 以下过程表示舱段2与舱段3装配\n",
    "X(3)=A(2)X(2)+B(3)U(3)"
   ]
  },
  {
   "cell_type": "code",
   "execution_count": 127,
   "metadata": {},
   "outputs": [],
   "source": [
    "# 在舱段3上创建局部坐标系\n",
    "\n",
    "# 创建全局坐标系下主平面的法向量 (nx, ny, nz)\n",
    "nx_3, ny_3, nz_3 = 1 / 2, 1 / 2, math.sqrt(2) / 2"
   ]
  },
  {
   "cell_type": "markdown",
   "metadata": {},
   "source": [
    "在舱段3上选择5个定位点，分别得到x y z坐标，设夹具误差服从正态分布N（0，0.001）"
   ]
  },
  {
   "cell_type": "markdown",
   "metadata": {},
   "source": [
    "##### Q坐标输入，新舱段定位点在根子装配体局部坐标系中的坐标，应该是新测的!!!!具体就是舱段1上五个定位点在舱段2的局部坐标系中的坐标。"
   ]
  },
  {
   "cell_type": "code",
   "execution_count": 128,
   "metadata": {},
   "outputs": [],
   "source": [
    "# 输入新数据，此处是第三个舱段五个定位点在第二个舱段局部坐标系下的坐标\n",
    "x1_root_3, y1_root_3, z1_root_3 = 998, 0.8, -0.7\n",
    "x2_root_3, y2_root_3, z2_root_3 = 1304, 382, 88\n",
    "x3_root_3, y3_root_3, z3_root_3 = 1758, 84, 652\n",
    "x4_root_3, y4_root_3, z4_root_3 = 1782, 649, 682\n",
    "x5_root_3, y5_root_3, z5_root_3 = 976, 578, 82"
   ]
  },
  {
   "cell_type": "code",
   "execution_count": 129,
   "metadata": {},
   "outputs": [],
   "source": [
    "Q3 = generate_Qi(x1_root_3,x2_root_3,x3_root_3,x4_root_3,x5_root_3, \n",
    "                y1_root_3,y2_root_3,y3_root_3,y4_root_3,y5_root_3,\n",
    "                z1_root_3,z2_root_3,z3_root_3,z4_root_3,z5_root_3)"
   ]
  },
  {
   "cell_type": "code",
   "execution_count": 130,
   "metadata": {},
   "outputs": [],
   "source": [
    "# 创建矩阵S3(30x12)\n",
    "S3 = np.zeros((30, 12))\n",
    "\n",
    "S3[0:6,6:12] = np.eye(6)\n",
    "S3[6:12,6:12] = np.eye(6)\n",
    "S3[12:18,0:6] = np.eye(6)\n",
    "S3[18:24,0:6] = np.eye(6)\n",
    "S3[24:30,6:12] = np.eye(6)\n",
    "\n",
    "# 计算G3\n",
    "G3 = F2@Q3@S3"
   ]
  },
  {
   "cell_type": "code",
   "execution_count": 131,
   "metadata": {},
   "outputs": [],
   "source": [
    "#计算舱段3的Fs_bar3\n",
    "Fs_bar3 = generate_Fs_bar(nx_3, ny_3, nz_3, x1_3, y1_3, z1_3, x2_3, y2_3, z2_3, x3_3, y3_3, x4_3, y4_3, x5_3, y5_3)\n",
    "\n",
    "# 构造F1_3\n",
    "# 将左边的单位矩阵和右边的零矩阵拼接在一起\n",
    "F1_3 = np.zeros((12,18))\n",
    "F1_3[:,:12] = np.eye(12)"
   ]
  },
  {
   "cell_type": "markdown",
   "metadata": {},
   "source": [
    "##### 输入2个新的坐标"
   ]
  },
  {
   "cell_type": "code",
   "execution_count": 132,
   "metadata": {},
   "outputs": [],
   "source": [
    "# Q中运用的坐标值，\n",
    "x_Omega2, y_Omega2, z_Omega2 = -998, 1, 0.5\n",
    "x_Omega3, y_Omega3, z_Omega3 = -2001, 2, 1"
   ]
  },
  {
   "cell_type": "code",
   "execution_count": 133,
   "metadata": {},
   "outputs": [],
   "source": [
    "# 创建J2\n",
    "J2 = generate_J(x_Omega2, y_Omega2, z_Omega2)"
   ]
  },
  {
   "cell_type": "code",
   "execution_count": 134,
   "metadata": {},
   "outputs": [],
   "source": [
    "# 构建 M(Ps1(3),Pr)\n",
    "MPs1_3_Pr_top = generate_MPs1_i_Pr(x_Omega2, y_Omega2, z_Omega2)\n",
    "MPs1_3_Pr_bottom = generate_MPs1_i_Pr(x_Omega3, y_Omega3, z_Omega3)\n",
    "MPs1_3_Pr = np.vstack((MPs1_3_Pr_top,MPs1_3_Pr_bottom))\n",
    "\n",
    "II = np.vstack((np.eye(6),np.eye(6)))\n",
    "# 构建Ms(3)(3)\n",
    "Ms_3 = (II - MPs1_3_Pr) @ Fs_bar3 @ G3 @ F1_3"
   ]
  },
  {
   "cell_type": "code",
   "execution_count": 135,
   "metadata": {},
   "outputs": [],
   "source": [
    "# 构建H(i-1)\n",
    "H2 = J2 @ F4\n",
    "\n",
    "# 构建F3(i)\n",
    "F3_3 = np.zeros((6,12))\n",
    "F3_3[:,6:] = np.eye(6)\n",
    "\n",
    "# 构建R(i-1)\n",
    "R2 = H2 @ F3_3 @ Ms_3"
   ]
  },
  {
   "cell_type": "code",
   "execution_count": 136,
   "metadata": {},
   "outputs": [],
   "source": [
    "# 矩阵A：由于重定位所引入误差的转换矩阵，表征装配过程中的舱段在不同工序之间转换的重定位误差，决定于装配过程中的工序与工序之间的定位基准的变换。\n",
    "# 在第一工位，由于前一工位引起的零件偏差误差为零。因此，当i=1时，A(0)=0 （6nx6n）\n",
    "# 当i>1时，A(i-1)表示参考点RP的误差累积和定位方案的变化。\n",
    "\n",
    "MMs_3 = np.zeros((18, 18))\n",
    "# 将12x18的矩阵放置在新矩阵的左上角\n",
    "MMs_3[:12, :18] = Ms_3\n",
    "\n",
    "RR2 = np.zeros((18,18))\n",
    "RR2[6:12,:18] = R2\n",
    "\n",
    "A2_matrix = MMs_3 + RR2"
   ]
  },
  {
   "cell_type": "code",
   "execution_count": 137,
   "metadata": {},
   "outputs": [],
   "source": [
    "# 此处同名，但是数值变了\n",
    "W0_bar = np.zeros((6, 32))\n",
    "# 将6x7的矩阵放置在新矩阵的上部\n",
    "W0_bar[:6, :7] = Fs_bar3\n",
    "\n",
    "W0_wavy = F3_3 @ MPs1_3_Pr @ W0_bar\n",
    "\n",
    "U0 = np.zeros((19,32))\n",
    "U0[:,7:26] = np.eye(19)\n",
    "W1_bar = np.vstack((W0_wavy,U0))\n",
    "# W1_bar = np.vstack((W0_bar,U0))\n",
    "\n",
    "# 创建lamda3\n",
    "# lamda3 = np.zeros((12,32))\n",
    "lamda3 = J2 @ W1_bar\n"
   ]
  },
  {
   "cell_type": "code",
   "execution_count": 138,
   "metadata": {},
   "outputs": [],
   "source": [
    "B3_matrix = np.vstack((MPs1_3_Pr @ W0_bar , lamda3))"
   ]
  },
  {
   "cell_type": "code",
   "execution_count": 139,
   "metadata": {},
   "outputs": [
    {
     "name": "stdout",
     "output_type": "stream",
     "text": [
      "[[ 5.95304200e-05]\n",
      " [ 2.32465582e-04]\n",
      " [ 1.82644523e-04]\n",
      " [ 9.81210298e-04]\n",
      " [-1.39880526e-04]\n",
      " [-1.36523978e-03]\n",
      " [ 8.21056690e-04]\n",
      " [ 4.85023342e-04]\n",
      " [-6.61619387e-06]\n",
      " [-1.28650151e-03]\n",
      " [ 1.17988878e-03]\n",
      " [-1.01588573e-03]\n",
      " [ 1.02807242e-03]\n",
      " [-6.72361396e-05]\n",
      " [ 3.68232633e-04]\n",
      " [-1.75123787e-03]\n",
      " [-1.37016060e-03]\n",
      " [ 5.74952689e-04]\n",
      " [-4.01954278e-04]\n",
      " [-6.60750358e-04]\n",
      " [-2.49382746e-03]\n",
      " [-1.96182112e-04]\n",
      " [ 3.91087131e-04]\n",
      " [-1.18202057e-03]\n",
      " [ 1.15246726e-03]\n",
      " [ 1.06951416e-03]\n",
      " [ 1.74806134e-03]\n",
      " [-1.41797618e-03]\n",
      " [-1.22179322e-03]\n",
      " [-1.24475860e-03]\n",
      " [ 1.68097248e-04]\n",
      " [-1.57108861e-03]]\n"
     ]
    }
   ],
   "source": [
    "# 矩阵U3：站3中与局部误差源的偏差\n",
    "U3_matrix = np.random.normal(0, 0.001, (32,1))   # 正态分布\n",
    "print(U3_matrix)"
   ]
  },
  {
   "cell_type": "code",
   "execution_count": 140,
   "metadata": {},
   "outputs": [
    {
     "data": {
      "text/plain": [
       "array([[ 1.96702871e-03],\n",
       "       [ 7.63659655e-01],\n",
       "       [ 8.99262918e-01],\n",
       "       [ 3.80172302e-06],\n",
       "       [-3.64863436e-07],\n",
       "       [-2.60796080e-06],\n",
       "       [ 3.18106885e-03],\n",
       "       [ 3.05445509e+00],\n",
       "       [ 3.60191825e+00],\n",
       "       [ 3.80172302e-06],\n",
       "       [-3.64863436e-07],\n",
       "       [-2.60796080e-06],\n",
       "       [ 2.37486809e-04],\n",
       "       [ 7.62226523e-03],\n",
       "       [-2.03977706e-03],\n",
       "       [ 1.87698007e-07],\n",
       "       [-1.58624580e-03],\n",
       "       [ 1.42814594e-03]])"
      ]
     },
     "execution_count": 140,
     "metadata": {},
     "output_type": "execute_result"
    }
   ],
   "source": [
    "X3 = A2_matrix @ X2 + B3_matrix @ U3_matrix\n",
    "X3 # 舱段2与舱段3装配后的误差"
   ]
  },
  {
   "cell_type": "markdown",
   "metadata": {},
   "source": [
    "#### 创建观测方程"
   ]
  },
  {
   "cell_type": "markdown",
   "metadata": {},
   "source": [
    "##### 输入6个观测点的坐标，每个舱段上2个"
   ]
  },
  {
   "cell_type": "code",
   "execution_count": 141,
   "metadata": {},
   "outputs": [],
   "source": [
    "# 输入6个观测点的坐标，每个舱段上2个\n",
    "# 此处是第二个舱段上2个测量点在以P1为原点，平行GCS的新局部坐标系下的坐标\n",
    "x1_mlp, y1_mlp, z1_mlp = 500, 400, 700\n",
    "x2_mlp, y2_mlp, z2_mlp = 500, 400, 100\n",
    "\n",
    "# 此处是第一个舱段上2个测量点在以P6为原点，平行GCS的新局部坐标系下的坐标\n",
    "x1_mlp_1, y1_mlp_1, z1_mlp_1 = 100, 400, 700\n",
    "x2_mlp_1, y2_mlp_1, z2_mlp_1 = 100, 400, 100\n",
    "\n",
    "# 此处是第三个舱段上2个测量点在以P11为原点，平行GCS的新局部坐标系下的坐标\n",
    "x1_mlp_3, y1_mlp_3, z1_mlp_3 = 900, 400, 700\n",
    "x2_mlp_3, y2_mlp_3, z2_mlp_3 = 900, 400, 100\n"
   ]
  },
  {
   "cell_type": "code",
   "execution_count": 142,
   "metadata": {},
   "outputs": [],
   "source": [
    "def generate_C_J(x_1, x_2, y_1, y_2, z_1, z_2):\n",
    "    # 创建列表以存储坐标值\n",
    "    x_values = [x_1, x_2]\n",
    "    y_values = [y_1, y_2]\n",
    "    z_values = [z_1, z_2]\n",
    "\n",
    "    # 创建一个空列表以存储矩阵\n",
    "    matrices = []\n",
    "\n",
    "    # 创建循环来生成矩阵\n",
    "    for i, (xi, yi, zi) in enumerate(zip(x_values, y_values, z_values), 1):\n",
    "        # 创建3x3的矩阵，并初始化为0\n",
    "        matrix = np.zeros((3, 3))\n",
    "\n",
    "        # 设定特定位置的值\n",
    "        matrix[0, 1] = zi\n",
    "        matrix[0, 2] = -1 * yi\n",
    "        matrix[1, 0] = -1 * zi\n",
    "        matrix[1, 2] = xi\n",
    "        matrix[2, 0] = yi\n",
    "        matrix[2, 1] = -1 * xi\n",
    "\n",
    "        matrices.append(matrix)\n",
    "    \n",
    "    # 用I扩充矩阵至6*6\n",
    "    extended_matrices = []\n",
    "    for i, matrix in enumerate(matrices):\n",
    "        extended_matrix = np.eye(6)\n",
    "        \n",
    "        # 将3x3的矩阵插入到6x6的矩阵的右上角\n",
    "        extended_matrix[:3, 3:] = matrix\n",
    "\n",
    "        extended_matrices.append(extended_matrix)\n",
    "\n",
    "    C_J = np.vstack(extended_matrices) # Q1_bar & Q2_bar\n",
    "\n",
    "    return C_J\n",
    "\n",
    "C_1 = generate_C_J(x1_mlp, x2_mlp, y1_mlp, y2_mlp, z1_mlp, z2_mlp)\n",
    "C_2 = generate_C_J(x1_mlp_1, x2_mlp_1, y1_mlp_1, y2_mlp_1, z1_mlp_1, z2_mlp_1)\n",
    "C_3 = generate_C_J(x1_mlp_3, x2_mlp_3, y1_mlp_3, y2_mlp_3, z1_mlp_3, z2_mlp_3)"
   ]
  },
  {
   "cell_type": "code",
   "execution_count": 143,
   "metadata": {},
   "outputs": [],
   "source": [
    "# 矩阵C_matrix：观测矩阵，包含舱段上测量点的信息 36*18\n",
    "\n",
    "# 在对角线拼接三个矩阵\n",
    "C_matrix = np.block([[C_1, np.zeros_like(C_1), np.zeros_like(C_1)],\n",
    "                    [np.zeros_like(C_2), C_2, np.zeros_like(C_2)],\n",
    "                    [np.zeros_like(C_3), np.zeros_like(C_3), C_3]])\n"
   ]
  },
  {
   "cell_type": "code",
   "execution_count": 144,
   "metadata": {},
   "outputs": [
    {
     "name": "stdout",
     "output_type": "stream",
     "text": [
      "[[ 2.75480862e-03]\n",
      " [ 7.59694468e-01]\n",
      " [ 9.00966039e-01]\n",
      " [ 3.80172302e-06]\n",
      " [-3.64863436e-07]\n",
      " [-2.60796080e-06]\n",
      " [ 2.97372668e-03]\n",
      " [ 7.61975502e-01]\n",
      " [ 9.00966039e-01]\n",
      " [ 3.80172302e-06]\n",
      " [-3.64863436e-07]\n",
      " [-2.60796080e-06]\n",
      " [ 3.96884876e-03]\n",
      " [ 3.05153309e+00]\n",
      " [ 3.60347543e+00]\n",
      " [ 3.80172302e-06]\n",
      " [-3.64863436e-07]\n",
      " [-2.60796080e-06]\n",
      " [ 4.18776683e-03]\n",
      " [ 3.05381412e+00]\n",
      " [ 3.60347543e+00]\n",
      " [ 3.80172302e-06]\n",
      " [-3.64863436e-07]\n",
      " [-2.60796080e-06]\n",
      " [-1.68139295e+00]\n",
      " [ 1.29282222e+00]\n",
      " [ 1.42565652e+00]\n",
      " [ 1.87698007e-07]\n",
      " [-1.58624580e-03]\n",
      " [ 1.42814594e-03]\n",
      " [-7.29645467e-01]\n",
      " [ 1.29293484e+00]\n",
      " [ 1.42565652e+00]\n",
      " [ 1.87698007e-07]\n",
      " [-1.58624580e-03]\n",
      " [ 1.42814594e-03]]\n"
     ]
    }
   ],
   "source": [
    "Y = np.dot(C_matrix,X3) \n",
    "print(Y)"
   ]
  },
  {
   "cell_type": "markdown",
   "metadata": {},
   "source": [
    "#### 存储数据\n",
    "注意会覆盖之前的文件"
   ]
  },
  {
   "cell_type": "code",
   "execution_count": 145,
   "metadata": {},
   "outputs": [
    {
     "name": "stdout",
     "output_type": "stream",
     "text": [
      "X3 data saved to X3_data.csv\n",
      "Y data saved to Y_data.csv\n"
     ]
    }
   ],
   "source": [
    "# 指定保存的文件路径\n",
    "file_path_X3 = 'X3_data.csv'\n",
    "file_path_Y = 'Y_data.csv'\n",
    "\n",
    "# 使用 savetxt 将 X3 保存到 CSV 文件中\n",
    "np.savetxt(file_path_X3, X3, delimiter=',', header='X3', comments='')\n",
    "\n",
    "print(f\"X3 data saved to {file_path_X3}\")\n",
    "\n",
    "# 使用 savetxt 将 Y 保存到 CSV 文件中\n",
    "np.savetxt(file_path_Y, Y, delimiter=',', header='Y', comments='')\n",
    "\n",
    "print(f\"Y data saved to {file_path_Y}\")\n"
   ]
  },
  {
   "cell_type": "code",
   "execution_count": 146,
   "metadata": {},
   "outputs": [],
   "source": [
    "# 生成N * 1维的相互独立的噪声\n",
    "N = 12  # 向量的长度\n",
    "mean = 0\n",
    "stddev = 0.01\n",
    "\n",
    "# 未建模的高斯噪音向量\n",
    "# W = np.random.normal(mean, stddev, N).reshape(-1, 1)\n",
    "# 生成 12x1 的矩阵，其中元素符合高斯分布\n",
    "W = np.random.normal(mean, stddev, N).reshape(-1, 1)\n",
    "\n",
    "# 测量的噪音向量\n",
    "V = np.random.normal(mean, stddev, N).reshape(-1, 1)"
   ]
  },
  {
   "cell_type": "code",
   "execution_count": 147,
   "metadata": {},
   "outputs": [],
   "source": [
    "# # 输出参考点的偏移量，坐标用向量表示\n",
    "# delta_x = np.array([0, 0, 0])\n",
    "# delta_y = np.array([0, 0, 0])\n",
    "# delta_z = np.array([0, 0, 0])\n",
    "# delta_alpha = 0\n",
    "# delta_beta = 0\n",
    "# delta_gamma = 0"
   ]
  }
 ],
 "metadata": {
  "kernelspec": {
   "display_name": "base",
   "language": "python",
   "name": "python3"
  },
  "language_info": {
   "codemirror_mode": {
    "name": "ipython",
    "version": 3
   },
   "file_extension": ".py",
   "mimetype": "text/x-python",
   "name": "python",
   "nbconvert_exporter": "python",
   "pygments_lexer": "ipython3",
   "version": "3.8.8"
  },
  "orig_nbformat": 4
 },
 "nbformat": 4,
 "nbformat_minor": 2
}
